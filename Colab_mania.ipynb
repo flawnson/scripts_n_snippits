{
  "nbformat": 4,
  "nbformat_minor": 0,
  "metadata": {
    "colab": {
      "name": "Colab-mania.ipynb",
      "provenance": [],
      "toc_visible": true,
      "machine_shape": "hm",
      "include_colab_link": true
    },
    "kernelspec": {
      "name": "python3",
      "display_name": "Python 3"
    },
    "accelerator": "GPU"
  },
  "cells": [
    {
      "cell_type": "markdown",
      "metadata": {
        "id": "view-in-github",
        "colab_type": "text"
      },
      "source": [
        "<a href=\"https://colab.research.google.com/github/flawnson/scripts_n_snippits/blob/master/Colab_mania.ipynb\" target=\"_parent\"><img src=\"https://colab.research.google.com/assets/colab-badge.svg\" alt=\"Open In Colab\"/></a>"
      ]
    },
    {
      "cell_type": "code",
      "metadata": {
        "id": "OBoIGoQdy2KC",
        "colab_type": "code",
        "colab": {}
      },
      "source": [
        "#Macro Execution Buffer (Must use Macro Recorder app and have this cell available for click events)\n",
        "Running..."
      ],
      "execution_count": 0,
      "outputs": []
    },
    {
      "cell_type": "markdown",
      "metadata": {
        "id": "whBNWSFRgYvb",
        "colab_type": "text"
      },
      "source": [
        "I don't really like notebooks, but I love free compute. I don't really like Google Drive, but I love Github. It's a bit of trouble, but it's possible to get what I want and none of what I don't."
      ]
    },
    {
      "cell_type": "markdown",
      "metadata": {
        "id": "i_dF08eIYRZD",
        "colab_type": "text"
      },
      "source": [
        "# Existing Support"
      ]
    },
    {
      "cell_type": "markdown",
      "metadata": {
        "id": "hO6tB6UYXasD",
        "colab_type": "text"
      },
      "source": [
        "As it currently stands (May 11th, 2020), Google Colab provides integration with Github for .ipynb files, allowing you to search for notebooks that you are affiliated with (Private organizations not included). However, the notebooks you receive from Github are meant to be run as standalone projects, and does not allow you to import custom modules from within the project. [This link](https://colab.research.google.com/github/) will take you to the portal."
      ]
    },
    {
      "cell_type": "markdown",
      "metadata": {
        "id": "kW4gHQsUYUtn",
        "colab_type": "text"
      },
      "source": [
        "According to [the FAQ](https://research.google.com/colaboratory/faq.html), Google Colab allows for up to 12 hours of GPU and TPU compute at a given session, before automatically disconnecting you. Provided GPUs include Nvidia K80s, T4s, P4s and P100s. The amount of available memory changes in accordance to the provided VM. Another limitation is the idle period; Google Colab will end sessions and disconnect from runtime if it detects no activity for a variable amount of time (90 minutes according to [this Stackexchange post](https://stackoverflow.com/questions/54057011/google-colab-session-timeout)). The hard limits are therefore 12 hours of time, and x amount of memory, while the soft limits are an undefined idle time."
      ]
    },
    {
      "cell_type": "markdown",
      "metadata": {
        "id": "9D5oF20zZhcc",
        "colab_type": "text"
      },
      "source": [
        "The goal therefore, is 3-fold:\n",
        "*   Extend Colab usage to any python file\n",
        "*   Allow the integration of any Github repository\n",
        "*   Prevent the ending of sessions after the idle period\n",
        "\n"
      ]
    },
    {
      "cell_type": "markdown",
      "metadata": {
        "id": "HaD39jbZeas9",
        "colab_type": "text"
      },
      "source": [
        "# Running local projects\n",
        "\n",
        "Colab allows the use of shell common commands, which can be uesd to access the VM directly instead of through the user interface. Read [this](https://colab.research.google.com/github/jakevdp/PythonDataScienceHandbook/blob/master/notebooks/01.05-IPython-And-Shell-Commands.ipynb) for more info. To understand magics in IPython, have a look at [this Jupyter Notebook](https://nbviewer.jupyter.org/github/ipython/ipython/blob/1.x/examples/notebooks/Cell%20Magics.ipynb). Note that you have root access to the notebook VM. You can list the all files and directories in your current directory with:\n",
        "```\n",
        "%ls -al\n",
        "```\n",
        "You can also veiw a file on the VM with\n",
        "```\n",
        "%less ~/something.txt\n",
        "```\n",
        "The file will appear on the right side as a tab that you can save (Ctrl-S) and close as needed"
      ]
    },
    {
      "cell_type": "markdown",
      "metadata": {
        "id": "r8-Nl3ToaV5N",
        "colab_type": "text"
      },
      "source": [
        "Click the folder icon on the left sidebar and upload your project directory into Colab. You will have to zip the project. You can unzip upon successfully uploading the project with:"
      ]
    },
    {
      "cell_type": "code",
      "metadata": {
        "id": "uH7rwZ_mbMsB",
        "colab_type": "code",
        "colab": {}
      },
      "source": [
        "!unzip my_project.zip"
      ],
      "execution_count": 0,
      "outputs": []
    },
    {
      "cell_type": "markdown",
      "metadata": {
        "id": "NJ1-lDqybXuD",
        "colab_type": "text"
      },
      "source": [
        "Optionally, you may mount Google Drive and access project files and directories through it instead. **Note that regardless of how you upload files to Colab, terminating a session or ending runtime will delete all files and revert mounted Drives.** Once the project is on Colab, change directory into your project file, and run your entry point file as you would from a terminal.\n"
      ]
    },
    {
      "cell_type": "code",
      "metadata": {
        "id": "F4lQenC9cCt5",
        "colab_type": "code",
        "colab": {}
      },
      "source": [
        "%cd sample_data\n",
        "\n",
        "!python main.py"
      ],
      "execution_count": 0,
      "outputs": []
    },
    {
      "cell_type": "markdown",
      "metadata": {
        "id": "cu7dR8GId395",
        "colab_type": "text"
      },
      "source": [
        "If you have libraries needed to run your code, check that Colab doesn't have them preinstalled already with \n",
        "```\n",
        "!pip freeze\n",
        "```\n",
        "If you can't find your library in the list either `!pip install some_package`, or create a `requirements.txt` file with the same format as the pip freeze ouput and run:\n",
        "```\n",
        "!pip install -r requirements.txt\n",
        "```\n",
        "Note that many python packages available on Windows are not available on Linux, hence you can also install libraries manually:"
      ]
    },
    {
      "cell_type": "code",
      "metadata": {
        "id": "DBYXhwkMqJlR",
        "colab_type": "code",
        "colab": {}
      },
      "source": [
        "%pip install torch-scatter==latest+cu101 -f https://pytorch-geometric.com/whl/torch-1.5.0.html\n",
        "%pip install torch-sparse==latest+cu101 -f https://pytorch-geometric.com/whl/torch-1.5.0.html\n",
        "%pip install torch-cluster==latest+cu101 -f https://pytorch-geometric.com/whl/torch-1.5.0.html\n",
        "%pip install torch-spline-conv==latest+cu101 -f https://pytorch-geometric.com/whl/torch-1.5.0.html\n",
        "%pip install torch-geometric"
      ],
      "execution_count": 0,
      "outputs": []
    },
    {
      "cell_type": "markdown",
      "metadata": {
        "colab_type": "text",
        "id": "n1EZCeuaaNyd"
      },
      "source": [
        "# Running Github repositories"
      ]
    },
    {
      "cell_type": "markdown",
      "metadata": {
        "id": "nSq9uX7rfeiO",
        "colab_type": "text"
      },
      "source": [
        "Treat Colab like as you would a linux machine from shell."
      ]
    },
    {
      "cell_type": "markdown",
      "metadata": {
        "colab_type": "text",
        "id": "PhM4WO5hXQ1H"
      },
      "source": [
        "### Running public repositories"
      ]
    },
    {
      "cell_type": "markdown",
      "metadata": {
        "id": "Ni-GINQihIbg",
        "colab_type": "text"
      },
      "source": [
        "Super straightforward. Change directories with `%cd` on the VM to whichever you fancy. It may be be desireable to change into the `drive` directory after mounting Drive, otherwise your project will be deleted if the session dies or runtime ends. Then in your directory of choice:"
      ]
    },
    {
      "cell_type": "code",
      "metadata": {
        "id": "gAGnEppniIAY",
        "colab_type": "code",
        "colab": {}
      },
      "source": [
        "!git clone git@github.com:username/Repo_name.git"
      ],
      "execution_count": 0,
      "outputs": []
    },
    {
      "cell_type": "markdown",
      "metadata": {
        "id": "c_dHbKVYkWGn",
        "colab_type": "text"
      },
      "source": [
        "Now you can treat the directory the same had you uploaded a project from local."
      ]
    },
    {
      "cell_type": "markdown",
      "metadata": {
        "colab_type": "text",
        "id": "5mrjK_ObXT8R"
      },
      "source": [
        "### Running private repositories"
      ]
    },
    {
      "cell_type": "markdown",
      "metadata": {
        "id": "ZgmlpZBZfTm2",
        "colab_type": "text"
      },
      "source": [
        "Start by setting global configurations for github on the VM"
      ]
    },
    {
      "cell_type": "code",
      "metadata": {
        "id": "92PvGGMC3gh3",
        "colab_type": "code",
        "colab": {}
      },
      "source": [
        "!git config --global user.email \"flawnsontong1@gmail.com\"\n",
        "!git config --global user.name \"flawnson\""
      ],
      "execution_count": 0,
      "outputs": []
    },
    {
      "cell_type": "markdown",
      "metadata": {
        "id": "i3m9ndpLf8vE",
        "colab_type": "text"
      },
      "source": [
        "Check that you have set git user properly with:"
      ]
    },
    {
      "cell_type": "code",
      "metadata": {
        "id": "-mwYE2_0zviC",
        "colab_type": "code",
        "colab": {}
      },
      "source": [
        "!git config --list"
      ],
      "execution_count": 0,
      "outputs": []
    },
    {
      "cell_type": "markdown",
      "metadata": {
        "id": "D-dUL3VIgJIB",
        "colab_type": "text"
      },
      "source": [
        "Check that there is a .ssh directory in root and create one if it doesn't exist. Then create a new key with id_rsa as it's name (it must be id_rsa otherwise Git won't know where to look)."
      ]
    },
    {
      "cell_type": "code",
      "metadata": {
        "id": "h36FyHMT7J1G",
        "colab_type": "code",
        "colab": {}
      },
      "source": [
        "!ssh-keygen -f ~/.ssh/id_rsa -t rsa"
      ],
      "execution_count": 0,
      "outputs": []
    },
    {
      "cell_type": "markdown",
      "metadata": {
        "id": "gsHL5XoBhvIq",
        "colab_type": "text"
      },
      "source": [
        "Use cat (will output the file directly) or less (will open a little window on the right with the file) and copy the entire contents of the file. "
      ]
    },
    {
      "cell_type": "code",
      "metadata": {
        "id": "g-Zf48hihayZ",
        "colab_type": "code",
        "colab": {}
      },
      "source": [
        "!cat ~/.ssh/id_rsa.pub"
      ],
      "execution_count": 0,
      "outputs": []
    },
    {
      "cell_type": "markdown",
      "metadata": {
        "id": "6mwU7ueXhA8Y",
        "colab_type": "text"
      },
      "source": [
        "Open the id_rsa.pub file (your public key) and copy to clipboard. Paste the copied contents on Github by going to `Github profile -> Settings -> SSH and GPG Keys -> Add new SSH key`. Then you must add Github to the list of authorized hosts."
      ]
    },
    {
      "cell_type": "code",
      "metadata": {
        "id": "wj4KyHsYIr-O",
        "colab_type": "code",
        "colab": {}
      },
      "source": [
        "!ssh-keyscan -t rsa github.com >> ~/.ssh/known_hosts"
      ],
      "execution_count": 0,
      "outputs": []
    },
    {
      "cell_type": "markdown",
      "metadata": {
        "id": "m-9mXBmDLIeH",
        "colab_type": "text"
      },
      "source": [
        "Finally you can git clone your private repository from the ssh link:"
      ]
    },
    {
      "cell_type": "code",
      "metadata": {
        "id": "k1v92GdUWR7f",
        "colab_type": "code",
        "colab": {}
      },
      "source": [
        "!git clone git@github.com:username/project_name.git"
      ],
      "execution_count": 0,
      "outputs": []
    },
    {
      "cell_type": "markdown",
      "metadata": {
        "id": "BYWsVSYQo4fJ",
        "colab_type": "text"
      },
      "source": [
        "Change directories into your project and run your project via entry point file:"
      ]
    },
    {
      "cell_type": "code",
      "metadata": {
        "id": "IByU99oI1pzG",
        "colab_type": "code",
        "colab": {}
      },
      "source": [
        "!python main.py -c /content/DruGgable_Reloaded/config/quinary_config.json -b false"
      ],
      "execution_count": 0,
      "outputs": []
    },
    {
      "cell_type": "markdown",
      "metadata": {
        "id": "-17IbD5ejhPA",
        "colab_type": "text"
      },
      "source": [
        "# Stopping Idle Termination\n",
        "\n",
        "Desperate times desperate measures.\n"
      ]
    },
    {
      "cell_type": "markdown",
      "metadata": {
        "id": "ffW37-X3Yr4t",
        "colab_type": "text"
      },
      "source": [
        "### SSH from local for htop\n",
        "\n",
        "There is a python package someone created meant to enable ssh access to a Colab notebooks. So far it has worked as expected. After running the code below and launching ssh from WSL, htop seems to successfully prevent idle-termination. Sourced from this [stack overflow post](https://stackoverflow.com/a/61682149)."
      ]
    },
    {
      "cell_type": "code",
      "metadata": {
        "id": "YXZ_lGwYNnEO",
        "colab_type": "code",
        "outputId": "43317de2-1858-4d03-cdbe-3308693883bf",
        "colab": {
          "base_uri": "https://localhost:8080/",
          "height": 195
        }
      },
      "source": [
        "# Install colab_ssh\n",
        "!pip install colab_ssh --upgrade\n",
        "\n",
        "from colab_ssh import launch_ssh\n",
        "launch_ssh('1bo1VtUcw5EXp69Kf2WJYQVM1F3_6zrcYeYb6KJpP7WJBRx11', 'ye')"
      ],
      "execution_count": 0,
      "outputs": [
        {
          "output_type": "stream",
          "text": [
            "Requirement already up-to-date: colab_ssh in /usr/local/lib/python3.6/dist-packages (0.2.51)\n",
            "Successfully running 0.tcp.ngrok.io:18893\n",
            "[Optional] You can also connect with VSCode SSH Remote extension using this configuration:\n",
            "\n",
            "      Host google_colab_ssh\n",
            "          HostName 0.ssh.ngrok.io\n",
            "          User root\n",
            "          Port 18893\n",
            "      \n"
          ],
          "name": "stdout"
        },
        {
          "output_type": "execute_result",
          "data": {
            "text/plain": [
              "[b'tcp://0.tcp.ngrok.io:18893\\n']"
            ]
          },
          "metadata": {
            "tags": []
          },
          "execution_count": 6
        }
      ]
    },
    {
      "cell_type": "markdown",
      "metadata": {
        "id": "94RuAAupZ0ZI",
        "colab_type": "text"
      },
      "source": [
        "Use `ssh -p 15892 root@0.tcp.ngrok.io` (exapmle command) in your local terminal to ssh into the notebook's VM.\n",
        "\n",
        "Thie mthod is a simplification of strategies used by sources such as [this](https://medium.com/@meet_patel/how-to-ssh-into-google-colab-and-run-scripts-from-terminal-instead-of-jupyter-notebook-3931f2674258) and [this](https://medium.com/@archie9211/guide-to-connect-to-google-colab-with-ssh-from-terminal-and-run-jupyter-lab-7ed60258368), which require installation of ngrok. As of May 12th, I have successfully kept a VM alive (Nvidia Tesla P100 for PCIe-Based Servers) for 5.5 hours\n",
        "\n",
        "Attempt #2, kept a VM alive (Nvidia Tesla K80) for "
      ]
    },
    {
      "cell_type": "code",
      "metadata": {
        "id": "Jh0cn4G-mNk6",
        "colab_type": "code",
        "colab": {}
      },
      "source": [
        "import torch\n",
        "\n",
        "device = torch.device('cuda' if torch.cuda.is_available() else 'cpu')\n",
        "test = torch.Tensor.randn(2, 2).to(device)\n",
        "print(device)\n",
        "print(test)"
      ],
      "execution_count": 0,
      "outputs": []
    },
    {
      "cell_type": "markdown",
      "metadata": {
        "colab_type": "text",
        "id": "vG5sYzp5qW-K"
      },
      "source": [
        "# ---***WARNING***---\n",
        "If your session is terminated either automatically or by going to `Runtime` and changing or ending the session, you will have to restart from the beginning (treat it as a new session)\n",
        "\n",
        "# ---***Further Tests***---\n",
        "[ ] - Test if cloned repos on mounted Drive remain tracked (probably not)\n",
        "\n",
        "[ ] - [Test if running macros that create bogus on-screen effects prevent idle termination ](https://stackoverflow.com/a/57114793)\n",
        "\n",
        "[ ] - Test if .vimrc is detected when cloned from repo into root dir\n",
        "\n",
        "[x] - Test if you can run tmux (may be able to keep sessions running in a tmux server even when the runtime is terminated)\n",
        "\n",
        "[x] - Test if you can ssh into the notebook VM directly and use htop to prevent Idle termination"
      ]
    },
    {
      "cell_type": "markdown",
      "metadata": {
        "id": "-11shY_zNnx1",
        "colab_type": "text"
      },
      "source": [
        "# Executable Script\n",
        "Work in progress"
      ]
    },
    {
      "cell_type": "code",
      "metadata": {
        "id": "Z5jAgMQJk75w",
        "colab_type": "code",
        "colab": {}
      },
      "source": [
        "!echo \"ServerAliveInterval 60\" >> /etc/ssh/ssh_config\n",
        "\n",
        "sudo /etc/init.d/ssh start"
      ],
      "execution_count": 0,
      "outputs": []
    },
    {
      "cell_type": "code",
      "metadata": {
        "id": "BQDxhur_lUNV",
        "colab_type": "code",
        "colab": {}
      },
      "source": [
        "!less /etc/ssh/ssh_config"
      ],
      "execution_count": 0,
      "outputs": []
    },
    {
      "cell_type": "code",
      "metadata": {
        "id": "tWwwdtiPcj3J",
        "colab_type": "code",
        "outputId": "c15cd5a2-6e8a-4769-9425-6de8db870e53",
        "colab": {
          "base_uri": "https://localhost:8080/",
          "height": 52
        }
      },
      "source": [
        "!clip.exe"
      ],
      "execution_count": 0,
      "outputs": [
        {
          "output_type": "stream",
          "text": [
            "/bin/bash: -c: line 0: syntax error near unexpected token `|'\n",
            "/bin/bash: -c: line 0: `| clip.exe'\n"
          ],
          "name": "stdout"
        }
      ]
    },
    {
      "cell_type": "code",
      "metadata": {
        "id": "PySQ5EkThhGW",
        "colab_type": "code",
        "colab": {}
      },
      "source": [
        "%%bash\n",
        "\n",
        "#Add keep-alive signals to system as root user (verify with whoami)\n",
        "echo \"ClientAliveInterval 60\" >> /etc/ssh/ssh_config\n",
        "less /etc/ssh/ssh_config\n",
        "\n",
        "#Only needed if you add ^^^ after sshing into the session (not tested)\n",
        "sudo service ssh restart\n",
        "\n",
        "# Setup git's credentials on system\n",
        "git config --global user.email \"flawnsontong1@gmail.com\"\n",
        "git config --global user.name \"flawnson\"\n",
        "git config --list\n",
        "\n",
        "# Setup ssh key for connection\n",
        "echo y | echo None | echo None | ssh-keygen -f ~/.ssh/id_rsa -t rsa\n",
        "ssh-keyscan -t rsa github.com >> ~/.ssh/known_hosts\n",
        "cat ~/.ssh/id_rsa.pub\n",
        "\n",
        "# Install colab_ssh tool\n",
        "pip install colab_ssh --upgrade\n",
        "python3 -c \"from colab_ssh import launch_ssh; launch_ssh('1bo1VtUcw5EXp69Kf2WJYQVM1F3_6zrcYeYb6KJpP7WJBRx11', 'password')\""
      ],
      "execution_count": 0,
      "outputs": []
    }
  ]
}
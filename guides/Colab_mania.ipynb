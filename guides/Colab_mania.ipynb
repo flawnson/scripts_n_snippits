{
  "nbformat": 4,
  "nbformat_minor": 0,
  "metadata": {
    "colab": {
      "name": "Colab-mania.ipynb",
      "provenance": [],
      "toc_visible": true,
      "machine_shape": "hm",
      "include_colab_link": true
    },
    "kernelspec": {
      "name": "python3",
      "display_name": "Python 3"
    },
    "accelerator": "GPU"
  },
  "cells": [
    {
      "cell_type": "markdown",
      "metadata": {
        "id": "view-in-github",
        "colab_type": "text"
      },
      "source": [
        "<a href=\"https://colab.research.google.com/github/flawnson/scripts_n_snippits/blob/master/Colab_mania.ipynb\" target=\"_parent\"><img src=\"https://colab.research.google.com/assets/colab-badge.svg\" alt=\"Open In Colab\"/></a>"
      ]
    },
    {
      "cell_type": "markdown",
      "metadata": {
        "id": "whBNWSFRgYvb",
        "colab_type": "text"
      },
      "source": [
        "Desperate times, desperate measures 😛"
      ]
    },
    {
      "cell_type": "markdown",
      "metadata": {
        "id": "i_dF08eIYRZD",
        "colab_type": "text"
      },
      "source": [
        "# Existing Support"
      ]
    },
    {
      "cell_type": "markdown",
      "metadata": {
        "id": "hO6tB6UYXasD",
        "colab_type": "text"
      },
      "source": [
        "As it currently stands (May 11th, 2020), Google Colab provides integration with Github for .ipynb files, allowing you to search for notebooks that you are affiliated with (Private organizations not included). However, the notebooks you receive from Github are meant to be run as standalone projects, and does not allow you to import custom modules from within the project. [This link](https://colab.research.google.com/github/) will take you to the portal."
      ]
    },
    {
      "cell_type": "markdown",
      "metadata": {
        "id": "kW4gHQsUYUtn",
        "colab_type": "text"
      },
      "source": [
        "According to [the FAQ](https://research.google.com/colaboratory/faq.html), Google Colab allows for up to 12 hours of GPU and TPU compute at a given session, before automatically disconnecting you. Provided GPUs include Nvidia K80s, T4s, P4s and P100s. The amount of available memory changes in accordance to the provided VM. Another limitation is the idle period; Google Colab will end sessions and disconnect from runtime if it detects no activity for a variable amount of time (90 minutes according to [this Stackexchange post](https://stackoverflow.com/questions/54057011/google-colab-session-timeout)). The hard limits are therefore 12 hours of time, and x amount of memory, while the soft limits are an undefined idle time."
      ]
    },
    {
      "cell_type": "markdown",
      "metadata": {
        "id": "9D5oF20zZhcc",
        "colab_type": "text"
      },
      "source": [
        "The goal therefore, is 3-fold:\n",
        "*   Extend Colab usage to any python file (.ipynb and .py)\n",
        "*   Allow the integration of any Github repository, public or private\n",
        "*   Prevent automatic session termination after the idle limit is exceeded\n",
        "\n"
      ]
    },
    {
      "cell_type": "markdown",
      "metadata": {
        "id": "HaD39jbZeas9",
        "colab_type": "text"
      },
      "source": [
        "# Running local projects\n",
        "\n",
        "Colab allows the use of shell common commands, which can be uesd to access the VM directly instead of through the user interface. Read [this](https://colab.research.google.com/github/jakevdp/PythonDataScienceHandbook/blob/master/notebooks/01.05-IPython-And-Shell-Commands.ipynb) for more info. To understand magics in IPython, have a look at [this Jupyter Notebook](https://nbviewer.jupyter.org/github/ipython/ipython/blob/1.x/examples/notebooks/Cell%20Magics.ipynb). Note that you have root access to the notebook VM. You can list the all files and directories in your current directory with:\n",
        "```\n",
        "%ls -al\n",
        "```\n",
        "You can also veiw a file on the VM with\n",
        "```\n",
        "%less ~/something.txt\n",
        "```\n",
        "The file will appear on the right side as a tab that you can save (Ctrl-S) and close as needed"
      ]
    },
    {
      "cell_type": "markdown",
      "metadata": {
        "id": "r8-Nl3ToaV5N",
        "colab_type": "text"
      },
      "source": [
        "Click the folder icon on the left sidebar and upload your project directory into Colab. You will have to zip the project. You can unzip upon successfully uploading the project with:"
      ]
    },
    {
      "cell_type": "code",
      "metadata": {
        "id": "uH7rwZ_mbMsB",
        "colab_type": "code",
        "colab": {}
      },
      "source": [
        "!unzip my_project.zip"
      ],
      "execution_count": null,
      "outputs": []
    },
    {
      "cell_type": "markdown",
      "metadata": {
        "id": "NJ1-lDqybXuD",
        "colab_type": "text"
      },
      "source": [
        "Optionally, you may mount Google Drive and access project files and directories through it instead. **Note that regardless of how you upload files to Colab, terminating a session or ending runtime will delete all files and revert mounted Drives.** Once the project is on Colab, change directory into your project file, and run your entry point file as you would from a terminal.\n"
      ]
    },
    {
      "cell_type": "code",
      "metadata": {
        "id": "F4lQenC9cCt5",
        "colab_type": "code",
        "colab": {}
      },
      "source": [
        "%cd sample_data\n",
        "\n",
        "!python main.py"
      ],
      "execution_count": null,
      "outputs": []
    },
    {
      "cell_type": "markdown",
      "metadata": {
        "id": "cu7dR8GId395",
        "colab_type": "text"
      },
      "source": [
        "If you have libraries needed to run your code, check that Colab doesn't have them preinstalled already with \n",
        "```\n",
        "!pip freeze\n",
        "```\n",
        "If you can't find your library in the list either `!pip install some_package`, or create a `requirements.txt` file with the same format as the pip freeze ouput and run:\n",
        "```\n",
        "!pip install -r requirements.txt\n",
        "```\n",
        "Note that many python packages available on Windows are not available on Linux, hence you can also install libraries manually, for example:"
      ]
    },
    {
      "cell_type": "code",
      "metadata": {
        "id": "DBYXhwkMqJlR",
        "colab_type": "code",
        "colab": {}
      },
      "source": [
        "%pip install torch-scatter==latest+cu101 -f https://pytorch-geometric.com/whl/torch-1.5.0.html\n",
        "%pip install torch-sparse==latest+cu101 -f https://pytorch-geometric.com/whl/torch-1.5.0.html\n",
        "%pip install torch-cluster==latest+cu101 -f https://pytorch-geometric.com/whl/torch-1.5.0.html\n",
        "%pip install torch-spline-conv==latest+cu101 -f https://pytorch-geometric.com/whl/torch-1.5.0.html\n",
        "%pip install torch-geometric"
      ],
      "execution_count": null,
      "outputs": []
    },
    {
      "cell_type": "markdown",
      "metadata": {
        "colab_type": "text",
        "id": "n1EZCeuaaNyd"
      },
      "source": [
        "# Running Github repositories"
      ]
    },
    {
      "cell_type": "markdown",
      "metadata": {
        "id": "nSq9uX7rfeiO",
        "colab_type": "text"
      },
      "source": [
        "Treat Colab like as you would a linux machine from shell."
      ]
    },
    {
      "cell_type": "markdown",
      "metadata": {
        "colab_type": "text",
        "id": "PhM4WO5hXQ1H"
      },
      "source": [
        "### Running public repositories"
      ]
    },
    {
      "cell_type": "markdown",
      "metadata": {
        "id": "Ni-GINQihIbg",
        "colab_type": "text"
      },
      "source": [
        "Super straightforward. Change directories with `%cd` on the VM to whichever you fancy. It may be be desireable to change into the `drive` directory after mounting Drive, otherwise your project will be deleted if the session dies or runtime ends. Then in your directory of choice:"
      ]
    },
    {
      "cell_type": "code",
      "metadata": {
        "id": "gAGnEppniIAY",
        "colab_type": "code",
        "colab": {}
      },
      "source": [
        "!git clone git@github.com:username/Repo_name.git"
      ],
      "execution_count": null,
      "outputs": []
    },
    {
      "cell_type": "markdown",
      "metadata": {
        "id": "c_dHbKVYkWGn",
        "colab_type": "text"
      },
      "source": [
        "Now you can treat the directory the same had you uploaded a project from local."
      ]
    },
    {
      "cell_type": "markdown",
      "metadata": {
        "colab_type": "text",
        "id": "5mrjK_ObXT8R"
      },
      "source": [
        "### Running private repositories"
      ]
    },
    {
      "cell_type": "markdown",
      "metadata": {
        "id": "ZgmlpZBZfTm2",
        "colab_type": "text"
      },
      "source": [
        "Start by setting global configurations for github on the VM"
      ]
    },
    {
      "cell_type": "code",
      "metadata": {
        "id": "92PvGGMC3gh3",
        "colab_type": "code",
        "colab": {}
      },
      "source": [
        "!git config --global user.email \"flawnsontong1@gmail.com\"\n",
        "!git config --global user.name \"flawnson\""
      ],
      "execution_count": null,
      "outputs": []
    },
    {
      "cell_type": "markdown",
      "metadata": {
        "id": "i3m9ndpLf8vE",
        "colab_type": "text"
      },
      "source": [
        "Check that you have set git user properly with:"
      ]
    },
    {
      "cell_type": "code",
      "metadata": {
        "id": "-mwYE2_0zviC",
        "colab_type": "code",
        "colab": {}
      },
      "source": [
        "!git config --list"
      ],
      "execution_count": null,
      "outputs": []
    },
    {
      "cell_type": "markdown",
      "metadata": {
        "id": "D-dUL3VIgJIB",
        "colab_type": "text"
      },
      "source": [
        "Check that there is a .ssh directory in root and create one if it doesn't exist. Then create a new key with id_rsa as it's name (it must be id_rsa otherwise Git won't know where to look)."
      ]
    },
    {
      "cell_type": "code",
      "metadata": {
        "id": "h36FyHMT7J1G",
        "colab_type": "code",
        "colab": {}
      },
      "source": [
        "!ssh-keygen -f ~/.ssh/id_rsa -t rsa"
      ],
      "execution_count": null,
      "outputs": []
    },
    {
      "cell_type": "markdown",
      "metadata": {
        "id": "gsHL5XoBhvIq",
        "colab_type": "text"
      },
      "source": [
        "Use cat (will output the file directly) or less (will open a little window on the right with the file) and copy the entire contents of the file. "
      ]
    },
    {
      "cell_type": "code",
      "metadata": {
        "id": "g-Zf48hihayZ",
        "colab_type": "code",
        "colab": {}
      },
      "source": [
        "!cat ~/.ssh/id_rsa.pub"
      ],
      "execution_count": null,
      "outputs": []
    },
    {
      "cell_type": "markdown",
      "metadata": {
        "id": "6mwU7ueXhA8Y",
        "colab_type": "text"
      },
      "source": [
        "Open the id_rsa.pub file (your public key) and copy to clipboard. Paste the copied contents on Github by going to `Github profile -> Settings -> SSH and GPG Keys -> Add new SSH key`. Then you must add Github to the list of authorized hosts."
      ]
    },
    {
      "cell_type": "code",
      "metadata": {
        "id": "wj4KyHsYIr-O",
        "colab_type": "code",
        "colab": {}
      },
      "source": [
        "!ssh-keyscan -t rsa github.com >> ~/.ssh/known_hosts"
      ],
      "execution_count": null,
      "outputs": []
    },
    {
      "cell_type": "markdown",
      "metadata": {
        "id": "m-9mXBmDLIeH",
        "colab_type": "text"
      },
      "source": [
        "Finally you can git clone your private repository from the ssh link:"
      ]
    },
    {
      "cell_type": "code",
      "metadata": {
        "id": "k1v92GdUWR7f",
        "colab_type": "code",
        "colab": {}
      },
      "source": [
        "!git clone git@github.com:username/project_name.git"
      ],
      "execution_count": null,
      "outputs": []
    },
    {
      "cell_type": "markdown",
      "metadata": {
        "id": "BYWsVSYQo4fJ",
        "colab_type": "text"
      },
      "source": [
        "Change directories into your project and run your project via entry point file:"
      ]
    },
    {
      "cell_type": "code",
      "metadata": {
        "id": "IByU99oI1pzG",
        "colab_type": "code",
        "colab": {}
      },
      "source": [
        "!python main.py -c /content/DruGgable_Reloaded/config/quinary_config.json -b false"
      ],
      "execution_count": null,
      "outputs": []
    },
    {
      "cell_type": "markdown",
      "metadata": {
        "id": "-17IbD5ejhPA",
        "colab_type": "text"
      },
      "source": [
        "# Stopping Idle Termination\n",
        "\n",
        "Desperate times desperate measures.\n"
      ]
    },
    {
      "cell_type": "markdown",
      "metadata": {
        "id": "ffW37-X3Yr4t",
        "colab_type": "text"
      },
      "source": [
        "### SSH from local for htop\n",
        "\n",
        "There is a python package someone created meant to enable ssh access to a Colab notebooks. So far it has worked as expected. After running the code below and launching ssh from WSL, htop seems to successfully prevent idle-termination. Sourced from this [stack overflow post](https://stackoverflow.com/a/61682149)."
      ]
    },
    {
      "cell_type": "code",
      "metadata": {
        "id": "YXZ_lGwYNnEO",
        "colab_type": "code",
        "colab": {}
      },
      "source": [
        "# Install colab_ssh\n",
        "!pip install colab_ssh --upgrade\n",
        "\n",
        "from colab_ssh import launch_ssh\n",
        "launch_ssh('YOUR_NGROK_AUTH_TOKEN', 'SOME_PASSWORD')"
      ],
      "execution_count": null,
      "outputs": []
    },
    {
      "cell_type": "markdown",
      "metadata": {
        "id": "94RuAAupZ0ZI",
        "colab_type": "text"
      },
      "source": [
        "Where YOUR_NGROK_AUTH_TOKEN is your auth token after signing up for ngrok and 'SOME_PASSWORD' is a password or your choice\n",
        "\n",
        "\n",
        "Use `ssh -p PORT_NUM root@0.tcp.ngrok.io` (example command) in your local terminal to ssh into the notebook's VM.\n",
        "\n",
        "Where PORT_NUM is the port number that will be provided upon executing launch_ssh\n",
        "\n",
        "Thie mthod is a simplification of strategies used by sources such as [this](https://medium.com/@meet_patel/how-to-ssh-into-google-colab-and-run-scripts-from-terminal-instead-of-jupyter-notebook-3931f2674258) and [this](https://medium.com/@archie9211/guide-to-connect-to-google-colab-with-ssh-from-terminal-and-run-jupyter-lab-7ed60258368), which require installation of ngrok. As of May 12th, I have successfully kept a VM alive (Nvidia Tesla P100 for PCIe-Based Servers) for 5.5 hours\n",
        "\n",
        "Attempt #2, kept a VM alive (Nvidia Tesla K80) for "
      ]
    },
    {
      "cell_type": "markdown",
      "metadata": {
        "colab_type": "text",
        "id": "vG5sYzp5qW-K"
      },
      "source": [
        "# ---***WARNING***---\n",
        "If your session is terminated either automatically or by going to `Runtime` and changing or ending the session, you will have to restart from the beginning (treat it as a new session)\n",
        "\n",
        "# ---***Further Tests***---\n",
        "[ ] - Test if cloned repos on mounted Drive remain tracked (probably not)\n",
        "\n",
        "[ ] - [Test if running macros that create bogus on-screen effects prevent idle termination ](https://stackoverflow.com/a/57114793)\n",
        "\n",
        "[x]: PASSED - Test if .vimrc is detected when cloned from repo into root dir\n",
        "\n",
        "[x]: FAILED - [Test if modifying ssh config helps prevent idle termination](https://unix.stackexchange.com/questions/150402/what-is-the-default-idle-timeout-for-openssh)\n",
        "\n",
        "[x]: PASSED - Test if you can ssh into the notebook VM directly\n",
        "\n",
        "[x]: FAILED - Test if you can run tmux to keep session awake (may be able to keep sessions running in a tmux server even when the runtime is terminated)"
      ]
    },
    {
      "cell_type": "markdown",
      "metadata": {
        "id": "-11shY_zNnx1",
        "colab_type": "text"
      },
      "source": [
        "# Executable Script\n",
        "The following script has been tested successfully for sshing into Colab's VM. After executing the script you should be able to clone into any public or private repos you have been given permission to access. Whether or not Colab's automatic session termination after the idle limit is exceeded still persists has been untested, so for now you probably have to baby the VM and Colab session upon sshing in."
      ]
    },
    {
      "cell_type": "code",
      "metadata": {
        "id": "PySQ5EkThhGW",
        "colab_type": "code",
        "colab": {
          "base_uri": "https://localhost:8080/",
          "height": 606
        },
        "outputId": "6a7fcb77-15b5-4c26-b3e7-1b4c6d154b10"
      },
      "source": [
        "%%bash\n",
        "\n",
        "# Setup git's credentials on system (verify with git config --list)\n",
        "git config --global user.email \"flawnsontong1@gmail.com\"\n",
        "git config --global user.name \"flawnson\"\n",
        "\n",
        "EMAIL='flawnsontong1@gmail.com'\n",
        "USERNAME='flawnson'\n",
        "PASSWORD='Orphic7Eunoia3'\n",
        "\n",
        "# Add keep-alive signals to system as root user (verify with whoami)\n",
        "echo \"ClientAliveInterval 60\" >> /etc/ssh/ssh_config\n",
        "\n",
        "# Only needed if you add ^^^ after sshing into the session (not tested)\n",
        "# Setup ssh key for connection\n",
        "echo y | echo None | echo None | ssh-keygen -f ~/.ssh/id_rsa -t rsa | echo y # Redundant echo y in case there is an existing public key\n",
        "ssh-keyscan -t rsa github.com >> ~/.ssh/known_hosts\n",
        "\n",
        "# Installing Github's REST API (JS version) to send ssh key to programmatically add ssh key to github.com user account \n",
        "npm install @octokit/rest\n",
        "\n",
        "curl -u \"${USERNAME}:${PASSWORD}\" \\\n",
        "    --data \"{\\\"title\\\":\\\"ssh_colab_`date +%Y%m%d%H%M%S`\\\",\\\"key\\\":\\\"`cat ~/.ssh/id_rsa.pub`\\\"}\" \\\n",
        "    https://api.github.com/user/keys\n",
        "\n",
        "# Install colab_ssh tool (uses ngrok in the backend)\n",
        "sudo apt-get install update\n",
        "pip install colab_ssh --upgrade"
      ],
      "execution_count": 1,
      "outputs": [
        {
          "output_type": "stream",
          "text": [
            "y\n",
            "+ @octokit/rest@18.0.0\n",
            "added 40 packages from 64 contributors in 11.23s\n",
            "{\n",
            "  \"id\": 44154717,\n",
            "  \"key\": \"ssh-rsa AAAAB3NzaC1yc2EAAAADAQABAAABAQC+6v55CPoyuiW9QBnx3a0uLL0qAhWhx0ghcOmtRlxkrkH1z9c17WjoVyvwWjEfoBcsiez7N8R2nXgm+QzKifZxcVOJc2TEvMoFA9RJ821tWdfICEEZCyZPeIt+jhNZDtubEKPdKR1xHVNAEsdINK6DzXlMWAl6AJ0DbzQiaDR5n/0TAGwTcVvyl2CJ+79lQJXQ+hsnNAulrrlpJeK8VWKSs16mgirPQjyqC86PmhVRU4AuGXHgr/dbE1ugUX3wEdx5V2EZ7SJQe18ycsl8LWkgt9Wv3ooZo3QQ8DIZY+57UDRGiOVADNdOCli6Rb5H7ABpssr1RG+4jb86RXdn80UR\",\n",
            "  \"url\": \"https://api.github.com/user/keys/44154717\",\n",
            "  \"title\": \"ssh_colab_20200620231728\",\n",
            "  \"verified\": true,\n",
            "  \"created_at\": \"2020-06-20T23:17:29Z\",\n",
            "  \"read_only\": false\n",
            "}\n",
            "Reading package lists...\n",
            "Building dependency tree...\n",
            "Reading state information...\n",
            "Collecting colab_ssh\n",
            "  Downloading https://files.pythonhosted.org/packages/93/7a/106c27a69fda941aae09efa03aa44039328582d7d0b8ee630c71fcbf24f8/colab_ssh-0.2.59-py3-none-any.whl\n",
            "Installing collected packages: colab-ssh\n",
            "Successfully installed colab-ssh-0.2.59\n"
          ],
          "name": "stdout"
        },
        {
          "output_type": "stream",
          "text": [
            "Enter passphrase (empty for no passphrase): Enter same passphrase again: Enter passphrase (empty for no passphrase): Enter same passphrase again: # github.com:22 SSH-2.0-babeld-7c96ae41\n",
            "npm WARN saveError ENOENT: no such file or directory, open '/content/package.json'\n",
            "npm notice created a lockfile as package-lock.json. You should commit this file.\n",
            "npm WARN enoent ENOENT: no such file or directory, open '/content/package.json'\n",
            "npm WARN content No description\n",
            "npm WARN content No repository field.\n",
            "npm WARN content No README data\n",
            "npm WARN content No license field.\n",
            "\n",
            "  % Total    % Received % Xferd  Average Speed   Time    Time     Time  Current\n",
            "                                 Dload  Upload   Total   Spent    Left  Speed\n",
            "\r  0     0    0     0    0     0      0      0 --:--:-- --:--:-- --:--:--     0\r 63  1032   36   213  100   443    241    502  0:00:02 --:--:--  0:00:02   742\r100  1032  100   589  100   443    667    502 --:--:-- --:--:-- --:--:--  1168\n",
            "E: Unable to locate package update\n"
          ],
          "name": "stderr"
        }
      ]
    },
    {
      "cell_type": "code",
      "metadata": {
        "id": "YCWHB-XwOzmx",
        "colab_type": "code",
        "colab": {}
      },
      "source": [
        "# If all of the above executes properly, execute the following YOUR_NGROK_AUTH_TOKEN\n",
        "!pip3 install colab-ssh\n",
        "!python3 -c \"from colab_ssh import launch_ssh; launch_ssh('YOUR_NGROK_AUTH_TOKEN', 'SOME_PASSWORD')\"\n",
        "\n",
        "# Where YOUR_NGROK_AUTH_TOKEN is your auth token after signing up for ngrok and 'SOME_PASSWORD'\n",
        "# is a password or your choice\n",
        "\n",
        "# Open your favorite shell and execute the following:\n",
        "# ssh -p PORT_NUM root@0.tcp.ngrok.io\n",
        "\n",
        "# Where PORT_NUM is the ssh port number\n",
        "# default port number for ssh is 22, but use the one provided after executing the above command"
      ],
      "execution_count": null,
      "outputs": []
    }
  ]
}